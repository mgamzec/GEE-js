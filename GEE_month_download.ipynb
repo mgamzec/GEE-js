{
 "cells": [
  {
   "cell_type": "code",
   "execution_count": 1,
   "metadata": {},
   "outputs": [],
   "source": [
    "import ee\n",
    "import numpy as np\n",
    "import pandas as pd\n",
    "import matplotlib.pyplot as plt\n",
    "import sklearn\n",
    "import scipy\n",
    "from sklearn.linear_model import LinearRegression\n",
    "from scipy.stats import pearsonr\n",
    "from sklearn.metrics import mean_squared_error, r2_score\n",
    "from scipy import stats\n",
    "\n",
    "ee.Initialize()\n",
    "\n",
    "def metrics(O, P):\n",
    "    mae = sklearn.metrics.mean_absolute_error(O, P)\n",
    "    mdae = sklearn.metrics.median_absolute_error(O, P)\n",
    "    RSq = sklearn.metrics.r2_score(O, P)\n",
    "    rmse = sklearn.metrics.mean_squared_error(O, P, squared=False)\n",
    "    R2 = stats.linregress(O, P)[2]**2\n",
    "    return mae, mdae, rmse, RSq, R2\n",
    "\n",
    "def plot_regression(O, P):\n",
    "    plt.figure(figsize = (6, 6))\n",
    "#     plt.grid(zorder = 1)\n",
    "    plt.scatter(O, P, edgecolor='#808080', facecolors='#C0C0C0', linewidth=1, zorder = 2)\n",
    "    corr, _ = pearsonr(O, P)\n",
    "    regmodel = LinearRegression()\n",
    "    regmodel.fit(O.values.reshape(-1,1), P)\n",
    "    rsq = regmodel.score(O.values.reshape(-1,1), P)\n",
    "    obs, pred = O.values.reshape(-1,1), regmodel.predict(O.values.reshape(-1,1))\n",
    "    plt.plot([obs.min(), obs.max()], [pred.min(), pred.max()], color = 'black', lw = 3, zorder = 3)\n",
    "    plt.plot([-5, obs.max()], [-5, obs.max()], color = 'navy', ls = '--', zorder = 1)\n",
    "    plt.legend([u'Pearson R\\u00b2: {:.3f}'.format(corr**2), '1:1 Plot', 'Observed - Predicted'], loc = 2)\n",
    "    plt.xlabel('In situ Precipitation [mm/month]')\n",
    "    plt.ylabel('Satelite Precipitation [mm/month]')\n",
    "    stats = np.round(metrics(O, P), 3)\n",
    "    stats = pd.DataFrame(data = stats, index = ['MAE', 'MDAE', 'RMSE', 'RSq', u'R\\u00b2'], columns = ['Metrics'])\n",
    "    stats.loc['RSq'] = np.round((stats.loc['RSq']) , 2) * 100\n",
    "    stats.loc[u'R\\u00b2'] = np.round((stats.loc[u'R\\u00b2']) , 2) * 100\n",
    "    stats2 = pd.DataFrame(stats['Metrics'][:3].astype(str) + ' mm/d' )\n",
    "    stats3 = pd.DataFrame(stats['Metrics'][3:].astype(str) + ' %' )\n",
    "    stats = stats2.append(stats3)\n",
    "    table = plt.table(cellText=stats.values, colWidths = [0.5]*len(stats.columns),\n",
    "          rowLabels=stats.index,\n",
    "#           colLabels=stats.columns,\n",
    "          cellLoc = 'left', rowLoc = 'left',\n",
    "          loc=4, edges='open')\n",
    "    table.auto_set_font_size(False)\n",
    "    table.set_fontsize(9)\n",
    "    table.scale(.5, 1.5)\n",
    "#     return stats"
   ]
  },
  {
   "cell_type": "code",
   "execution_count": 2,
   "metadata": {},
   "outputs": [
    {
     "name": "stdout",
     "output_type": "stream",
     "text": [
      "   longitude latitude precipitation\n",
      "1      22.99    40.54       93.6777\n",
      "2      22.99    40.54       11.8838\n",
      "3      22.99    40.54       11.9714\n",
      "4      22.99    40.54       33.9079\n",
      "5      22.99    40.54       32.7342\n",
      "6      22.99    40.54       32.8328\n",
      "7      22.99    40.54       31.4208\n",
      "8      22.99    40.54        5.0256\n",
      "9      22.99    40.54       19.3447\n",
      "10     22.99    40.54         19.42\n",
      "11     22.99    40.54       63.7343\n",
      "12     22.99    40.54       51.2662\n"
     ]
    },
    {
     "data": {
      "image/png": "[encoded data removed]",
      "text/plain": [
       "<Figure size 432x288 with 1 Axes>"
      ]
     },
     "metadata": {
      "needs_background": "light"
     },
     "output_type": "display_data"
    }
   ],
   "source": [
    "# import the RS products\n",
    "chirps = ee.ImageCollection('UCSB-CHG/CHIRPS/DAILY')\n",
    " \n",
    "# Define time range\n",
    "startyear = 2019\n",
    "endyear = 2020\n",
    "\n",
    "# Set date in ee date format\n",
    "startdate = ee.Date.fromYMD(startyear,1,1)\n",
    "enddate = ee.Date.fromYMD(endyear+1,12,31)\n",
    "\n",
    " \n",
    "# create list for years\n",
    "years = range(startyear,endyear);\n",
    " \n",
    "# make a list with months\n",
    "months = range(1,13)\n",
    "\n",
    "#Filter to select Precipitation band\n",
    "PrecipitationChirps = chirps.filterDate(startdate, enddate).sort('system:time_start', False).select(\"precipitation\")\n",
    " \n",
    "# Define geograpic \n",
    "point = ee.Geometry.Point([22.99, 40.54])\n",
    " \n",
    "# calculate the monthly Sum\n",
    "def MonthlySum(imageCollection):\n",
    "    mylist = ee.List([])\n",
    "    for y in years:\n",
    "        for m in months:\n",
    "            w = imageCollection.filter(ee.Filter.calendarRange(y, y, 'year')).filter(ee.Filter.calendarRange(m, m, 'month')).sum()\n",
    "            #mylist = mylist.add(w)\n",
    "            mylist = mylist.add(w.set('year', y).set('month', m).set('date', ee.Date.fromYMD(y,m,1)).set('system:time_start',ee.Date.fromYMD(y,m,1)))\n",
    "    return ee.ImageCollection.fromImages(mylist)\n",
    " \n",
    "# run the calcMonthlyMean function\n",
    "monthlyChirps = ee.ImageCollection(MonthlySum(PrecipitationChirps))\n",
    "\n",
    "\n",
    "# select the region of interest, 25000 is the cellsize in meters\n",
    "monthlyChirps = monthlyChirps.getRegion(point,1,\"epsg:4326\").getInfo()\n",
    "\n",
    "\n",
    "# get january (index = 0)\n",
    "precipiation = pd.DataFrame(monthlyChirps, columns = monthlyChirps[0])\n",
    "\n",
    "# remove the first line\n",
    "precipiation = precipiation[1:]\n",
    "\n",
    "#to display the data\n",
    "print(precipiation[['longitude','latitude','precipitation']])\n",
    "\n",
    "precipitation_gee = pd.DataFrame(precipiation['precipitation']).astype(float)\n",
    "plt.plot(precipiation.precipitation);"
   ]
  },
  {
   "cell_type": "code",
   "execution_count": 3,
   "metadata": {},
   "outputs": [
    {
     "data": {
      "text/plain": [
       "Date\n",
       "2008-01-31    23.4\n",
       "2008-02-29    17.4\n",
       "2008-03-31    15.2\n",
       "2008-04-30    85.2\n",
       "2008-05-31    27.6\n",
       "              ... \n",
       "2020-06-30    25.6\n",
       "2020-07-31    13.0\n",
       "2020-08-31    74.8\n",
       "2020-09-30    15.4\n",
       "2020-10-31    15.0\n",
       "Freq: M, Name: P, Length: 154, dtype: float64"
      ]
     },
     "execution_count": 3,
     "metadata": {},
     "output_type": "execute_result"
    }
   ],
   "source": [
    "#Read AUTH Station data\n",
    "auth = pd.read_excel(\"auth.xlsx\", skiprows = [1, 2], index_col = 0, parse_dates = True, engine='openpyxl')\n",
    "\n",
    "# auth = auth[['P']]\n",
    "p = auth.P.loc['01-2008':].resample('M').sum()\n",
    "p"
   ]
  },
  {
   "cell_type": "code",
   "execution_count": 4,
   "metadata": {},
   "outputs": [],
   "source": [
    "precipitation_real = pd.DataFrame(p.groupby(p.index.month).median()).astype(float)"
   ]
  },
  {
   "cell_type": "code",
   "execution_count": 5,
   "metadata": {},
   "outputs": [
    {
     "data": {
      "image/png": "[encoded data removed]",
      "text/plain": [
       "<Figure size 432x432 with 1 Axes>"
      ]
     },
     "metadata": {
      "needs_background": "light"
     },
     "output_type": "display_data"
    }
   ],
   "source": [
    "plot_regression(precipitation_gee['precipitation'], precipitation_real['P']);"
   ]
  },
  {
   "cell_type": "code",
   "execution_count": null,
   "metadata": {},
   "outputs": [],
   "source": []
  }
 ],
 "metadata": {
  "kernelspec": {
   "display_name": "Python 3 (ipykernel)",
   "language": "python",
   "name": "python3"
  },
  "language_info": {
   "codemirror_mode": {
    "name": "ipython",
    "version": 3
   },
   "file_extension": ".py",
   "mimetype": "text/x-python",
   "name": "python",
   "nbconvert_exporter": "python",
   "pygments_lexer": "ipython3",
   "version": "3.7.10"
  }
 },
 "nbformat": 4,
 "nbformat_minor": 2
}
